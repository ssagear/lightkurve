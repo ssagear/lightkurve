{
 "cells": [
  {
   "cell_type": "markdown",
   "id": "3238c196",
   "metadata": {},
   "source": [
    "## Todos\n",
    "- Make a pull request/reopen that one issue\n",
    "- PRF fit -- extract stellar/source flux? if so, you can multiply the 1d lightcurve by the stellar flux "
   ]
  },
  {
   "cell_type": "code",
   "execution_count": 16,
   "id": "a6537c72",
   "metadata": {},
   "outputs": [],
   "source": [
    "import lightkurve as lk\n",
    "import matplotlib.pyplot as plt\n",
    "import numpy as np\n",
    "\n",
    "from lightkurve import KeplerTargetPixelFile, LightCurve\n",
    "from lightkurve.targetpixelfile import TargetPixelFileFactory\n",
    "from lightkurve.prf import StarPrior, BackgroundPrior, FocusPrior, MotionPrior, TPFModel, PRFPhotometry\n",
    "from oktopus import GaussianPrior, UniformPrior"
   ]
  },
  {
   "cell_type": "code",
   "execution_count": 17,
   "id": "4623f975",
   "metadata": {},
   "outputs": [
    {
     "data": {
      "text/plain": [
       "<module 'lightkurve' from '/Users/ssagear/github/lightkurve/src/lightkurve/__init__.py'>"
      ]
     },
     "execution_count": 17,
     "metadata": {},
     "output_type": "execute_result"
    }
   ],
   "source": [
    "lk"
   ]
  },
  {
   "cell_type": "code",
   "execution_count": 23,
   "id": "6ac225b5",
   "metadata": {},
   "outputs": [],
   "source": [
    "tpf = KeplerTargetPixelFile(\"https://archive.stsci.edu/missions/kepler/target_pixel_files/0084/008462852/\"\n",
    "                            \"kplr008462852-2013098041711_lpd-targ.fits.gz\", quality_mask='hardest')"
   ]
  },
  {
   "cell_type": "code",
   "execution_count": 24,
   "id": "1bf7ac5e",
   "metadata": {},
   "outputs": [
    {
     "data": {
      "text/latex": [
       "$[[[{\\rm NaN},~-5.7494607,~-1.1322018,~\\dots,~201.54414,~1224.8718,~{\\rm NaN}],~\n",
       "  [{\\rm NaN},~31.724092,~30.226576,~\\dots,~79.965172,~666.4187,~{\\rm NaN}],~\n",
       "  [95.157104,~54.266346,~201.94328,~\\dots,~139.80962,~198.06038,~{\\rm NaN}],~\n",
       "  \\dots,~\n",
       "  [{\\rm NaN},~83.469238,~61.308727,~\\dots,~506.30341,~422.94205,~139.69087],~\n",
       "  [{\\rm NaN},~21.98716,~37.381268,~\\dots,~483.09003,~114.93613,~{\\rm NaN}],~\n",
       "  [{\\rm NaN},~-2.3850932,~121.48103,~\\dots,~251.94012,~54.309231,~{\\rm NaN}]],~\n",
       "\n",
       " [[{\\rm NaN},~-2.8208041,~0.27608201,~\\dots,~204.00391,~1229.3944,~{\\rm NaN}],~\n",
       "  [{\\rm NaN},~34.709625,~30.08975,~\\dots,~82.211494,~669.29437,~{\\rm NaN}],~\n",
       "  [93.097778,~54.871201,~200.94499,~\\dots,~139.71349,~197.29906,~{\\rm NaN}],~\n",
       "  \\dots,~\n",
       "  [{\\rm NaN},~81.769737,~61.914795,~\\dots,~509.9202,~423.05014,~140.04686],~\n",
       "  [{\\rm NaN},~22.615147,~40.592896,~\\dots,~482.0799,~112.69654,~{\\rm NaN}],~\n",
       "  [{\\rm NaN},~-0.99370772,~119.01868,~\\dots,~251.84489,~54.405632,~{\\rm NaN}]],~\n",
       "\n",
       " [[{\\rm NaN},~-5.1104054,~-1.2900019,~\\dots,~202.75578,~1229.4845,~{\\rm NaN}],~\n",
       "  [{\\rm NaN},~30.825907,~31.627972,~\\dots,~81.888184,~668.46466,~{\\rm NaN}],~\n",
       "  [93.032021,~54.901363,~203.47537,~\\dots,~139.40089,~199.11391,~{\\rm NaN}],~\n",
       "  \\dots,~\n",
       "  [{\\rm NaN},~79.492058,~60.361217,~\\dots,~509.46533,~424.00125,~140.53456],~\n",
       "  [{\\rm NaN},~22.645802,~38.002769,~\\dots,~484.37543,~116.69423,~{\\rm NaN}],~\n",
       "  [{\\rm NaN},~-0.18329653,~121.33365,~\\dots,~254.90346,~55.299297,~{\\rm NaN}]],~\n",
       "\n",
       " \\dots,~\n",
       "\n",
       " [[{\\rm NaN},~-8.5536232,~-9.2924166,~\\dots,~155.93028,~461.47714,~{\\rm NaN}],~\n",
       "  [{\\rm NaN},~20.355566,~13.50879,~\\dots,~80.475716,~1106.2665,~{\\rm NaN}],~\n",
       "  [140.8089,~47.031925,~62.504868,~\\dots,~112.4103,~134.47916,~{\\rm NaN}],~\n",
       "  \\dots,~\n",
       "  [{\\rm NaN},~40.658127,~80.769554,~\\dots,~767.04755,~602.07208,~156.46744],~\n",
       "  [{\\rm NaN},~71.031876,~34.934975,~\\dots,~585.24146,~195.73219,~{\\rm NaN}],~\n",
       "  [{\\rm NaN},~-8.2500858,~73.18853,~\\dots,~387.87021,~75.398582,~{\\rm NaN}]],~\n",
       "\n",
       " [[{\\rm NaN},~-6.8498745,~-6.6708655,~\\dots,~159.34166,~465.98303,~{\\rm NaN}],~\n",
       "  [{\\rm NaN},~20.511497,~13.794885,~\\dots,~76.908859,~1107.4835,~{\\rm NaN}],~\n",
       "  [141.39319,~47.960651,~62.026237,~\\dots,~114.26655,~133.07956,~{\\rm NaN}],~\n",
       "  \\dots,~\n",
       "  [{\\rm NaN},~40.813679,~78.73645,~\\dots,~768.37012,~605.01178,~153.66786],~\n",
       "  [{\\rm NaN},~70.395477,~35.99667,~\\dots,~582.7981,~196.7337,~{\\rm NaN}],~\n",
       "  [{\\rm NaN},~-8.8664274,~73.471718,~\\dots,~389.93796,~77.129112,~{\\rm NaN}]],~\n",
       "\n",
       " [[{\\rm NaN},~-6.3798966,~-6.2894549,~\\dots,~158.09227,~463.49069,~{\\rm NaN}],~\n",
       "  [{\\rm NaN},~20.214281,~12.616692,~\\dots,~75.658028,~1107.4329,~{\\rm NaN}],~\n",
       "  [140.34117,~46.888657,~61.626823,~\\dots,~112.25721,~135.37399,~{\\rm NaN}],~\n",
       "  \\dots,~\n",
       "  [{\\rm NaN},~38.977047,~79.11261,~\\dots,~765.11951,~602.18268,~152.2473],~\n",
       "  [{\\rm NaN},~70.895889,~36.389828,~\\dots,~581.56805,~196.69487,~{\\rm NaN}],~\n",
       "  [{\\rm NaN},~-7.608253,~72.3209,~\\dots,~384.3537,~76.294724,~{\\rm NaN}]]] \\; \\mathrm{\\frac{e^{-}}{s}}$"
      ],
      "text/plain": [
       "<Quantity [[[            nan, -5.74946070e+00, -1.13220179e+00, ...,\n",
       "              2.01544144e+02,  1.22487183e+03,             nan],\n",
       "            [            nan,  3.17240925e+01,  3.02265759e+01, ...,\n",
       "              7.99651718e+01,  6.66418701e+02,             nan],\n",
       "            [ 9.51571045e+01,  5.42663460e+01,  2.01943283e+02, ...,\n",
       "              1.39809616e+02,  1.98060379e+02,             nan],\n",
       "            ...,\n",
       "            [            nan,  8.34692383e+01,  6.13087273e+01, ...,\n",
       "              5.06303406e+02,  4.22942047e+02,  1.39690872e+02],\n",
       "            [            nan,  2.19871597e+01,  3.73812675e+01, ...,\n",
       "              4.83090027e+02,  1.14936127e+02,             nan],\n",
       "            [            nan, -2.38509321e+00,  1.21481033e+02, ...,\n",
       "              2.51940125e+02,  5.43092308e+01,             nan]],\n",
       "\n",
       "           [[            nan, -2.82080412e+00,  2.76082009e-01, ...,\n",
       "              2.04003906e+02,  1.22939441e+03,             nan],\n",
       "            [            nan,  3.47096252e+01,  3.00897503e+01, ...,\n",
       "              8.22114944e+01,  6.69294373e+02,             nan],\n",
       "            [ 9.30977783e+01,  5.48712006e+01,  2.00944992e+02, ...,\n",
       "              1.39713486e+02,  1.97299057e+02,             nan],\n",
       "            ...,\n",
       "            [            nan,  8.17697372e+01,  6.19147949e+01, ...,\n",
       "              5.09920197e+02,  4.23050140e+02,  1.40046860e+02],\n",
       "            [            nan,  2.26151466e+01,  4.05928955e+01, ...,\n",
       "              4.82079895e+02,  1.12696541e+02,             nan],\n",
       "            [            nan, -9.93707716e-01,  1.19018684e+02, ...,\n",
       "              2.51844894e+02,  5.44056320e+01,             nan]],\n",
       "\n",
       "           [[            nan, -5.11040545e+00, -1.29000187e+00, ...,\n",
       "              2.02755783e+02,  1.22948450e+03,             nan],\n",
       "            [            nan,  3.08259068e+01,  3.16279716e+01, ...,\n",
       "              8.18881836e+01,  6.68464661e+02,             nan],\n",
       "            [ 9.30320206e+01,  5.49013634e+01,  2.03475372e+02, ...,\n",
       "              1.39400894e+02,  1.99113907e+02,             nan],\n",
       "            ...,\n",
       "            [            nan,  7.94920578e+01,  6.03612175e+01, ...,\n",
       "              5.09465332e+02,  4.24001251e+02,  1.40534561e+02],\n",
       "            [            nan,  2.26458015e+01,  3.80027695e+01, ...,\n",
       "              4.84375427e+02,  1.16694229e+02,             nan],\n",
       "            [            nan, -1.83296531e-01,  1.21333649e+02, ...,\n",
       "              2.54903458e+02,  5.52992973e+01,             nan]],\n",
       "\n",
       "           ...,\n",
       "\n",
       "           [[            nan, -8.55362320e+00, -9.29241657e+00, ...,\n",
       "              1.55930283e+02,  4.61477142e+02,             nan],\n",
       "            [            nan,  2.03555660e+01,  1.35087900e+01, ...,\n",
       "              8.04757156e+01,  1.10626648e+03,             nan],\n",
       "            [ 1.40808899e+02,  4.70319252e+01,  6.25048676e+01, ...,\n",
       "              1.12410301e+02,  1.34479156e+02,             nan],\n",
       "            ...,\n",
       "            [            nan,  4.06581268e+01,  8.07695541e+01, ...,\n",
       "              7.67047546e+02,  6.02072083e+02,  1.56467438e+02],\n",
       "            [            nan,  7.10318756e+01,  3.49349747e+01, ...,\n",
       "              5.85241455e+02,  1.95732193e+02,             nan],\n",
       "            [            nan, -8.25008583e+00,  7.31885300e+01, ...,\n",
       "              3.87870209e+02,  7.53985825e+01,             nan]],\n",
       "\n",
       "           [[            nan, -6.84987450e+00, -6.67086554e+00, ...,\n",
       "              1.59341660e+02,  4.65983032e+02,             nan],\n",
       "            [            nan,  2.05114975e+01,  1.37948847e+01, ...,\n",
       "              7.69088593e+01,  1.10748352e+03,             nan],\n",
       "            [ 1.41393188e+02,  4.79606514e+01,  6.20262375e+01, ...,\n",
       "              1.14266548e+02,  1.33079559e+02,             nan],\n",
       "            ...,\n",
       "            [            nan,  4.08136787e+01,  7.87364502e+01, ...,\n",
       "              7.68370117e+02,  6.05011780e+02,  1.53667862e+02],\n",
       "            [            nan,  7.03954773e+01,  3.59966698e+01, ...,\n",
       "              5.82798096e+02,  1.96733704e+02,             nan],\n",
       "            [            nan, -8.86642742e+00,  7.34717178e+01, ...,\n",
       "              3.89937958e+02,  7.71291122e+01,             nan]],\n",
       "\n",
       "           [[            nan, -6.37989664e+00, -6.28945494e+00, ...,\n",
       "              1.58092270e+02,  4.63490692e+02,             nan],\n",
       "            [            nan,  2.02142811e+01,  1.26166916e+01, ...,\n",
       "              7.56580276e+01,  1.10743286e+03,             nan],\n",
       "            [ 1.40341171e+02,  4.68886566e+01,  6.16268234e+01, ...,\n",
       "              1.12257210e+02,  1.35373993e+02,             nan],\n",
       "            ...,\n",
       "            [            nan,  3.89770470e+01,  7.91126099e+01, ...,\n",
       "              7.65119507e+02,  6.02182678e+02,  1.52247299e+02],\n",
       "            [            nan,  7.08958893e+01,  3.63898277e+01, ...,\n",
       "              5.81568054e+02,  1.96694870e+02,             nan],\n",
       "            [            nan, -7.60825300e+00,  7.23209000e+01, ...,\n",
       "              3.84353699e+02,  7.62947235e+01,             nan]]] electron / s>"
      ]
     },
     "execution_count": 24,
     "metadata": {},
     "output_type": "execute_result"
    }
   ],
   "source": [
    "tpf.flux"
   ]
  },
  {
   "cell_type": "code",
   "execution_count": 5,
   "id": "d58cc4ed",
   "metadata": {},
   "outputs": [
    {
     "name": "stderr",
     "output_type": "stream",
     "text": [
      "Warning: PRF-fitting photometry is experimental in this version of lightkurve.\n",
      "Warning: PRF-fitting photometry is experimental in this version of lightkurve.\n",
      "Fitting cadences: 100%|██████████████████████████████████████████| 3540/3540 [01:19<00:00, 44.68it/s]\n"
     ]
    }
   ],
   "source": [
    "oops = tpf.extract_prf_photometry()"
   ]
  },
  {
   "cell_type": "code",
   "execution_count": 6,
   "id": "e1dcafa2",
   "metadata": {},
   "outputs": [
    {
     "data": {
      "text/plain": [
       "<lightkurve.prf.tpfmodel.TPFModelParameters object at 0x12f141910>\n",
       "  <StarParameters(\n",
       "    col=232.46966094957332\n",
       "    row=131.78401736836238\n",
       "    flux=241646.46629568693\n",
       "    targetid=None)>\n",
       "  <BackgroundParameters(\n",
       "    flux=459.8533634264026\n",
       "    fitted=True)>\n",
       "  <FocusParameters(\n",
       "    scale_col=[1]\n",
       "    scale_row=[1]\n",
       "    rotation_angle=[0.]\n",
       "    fitted=False)>\n",
       "  <MotionParameters(\n",
       "    shift_col=-0.0883256271481514\n",
       "    shift_row=-0.22839058935642242\n",
       "    fitted=False)>\n",
       "  residual_image:\n",
       "    [          nan -135.24134612 -147.49296708 -156.02464029...\n",
       "  predicted_image:\n",
       "    [445.36797008 447.74369597 464.58992143 477.12763711..."
      ]
     },
     "execution_count": 6,
     "metadata": {},
     "output_type": "execute_result"
    }
   ],
   "source": [
    "oops.results[0]"
   ]
  },
  {
   "cell_type": "code",
   "execution_count": 7,
   "id": "cc24d14b",
   "metadata": {},
   "outputs": [],
   "source": [
    "import batman\n",
    "import matplotlib.pyplot as plt\n",
    "\n",
    "params = batman.TransitParams()\n",
    "params.t0 = 0.\n",
    "params.per = 1.\n",
    "params.rp = 1.5\n",
    "params.a = 15.\n",
    "params.inc = 87.\n",
    "params.ecc = 0.\n",
    "params.w = 90.\n",
    "params.limb_dark = \"nonlinear\"\n",
    "params.u = [0.5, 0.1, 0.1, -0.1]\n",
    "\n",
    "t = np.linspace(-0.025, 0.025, len(oops.results))\n",
    "m = batman.TransitModel(params, t)\n",
    "\n",
    "b_flux = m.light_curve(params)"
   ]
  },
  {
   "cell_type": "code",
   "execution_count": 6,
   "id": "d4f6ae94",
   "metadata": {},
   "outputs": [],
   "source": [
    "for i in range(len(oops.results)):\n",
    "    oops.results[i].stars[0].flux = oops.results[i].stars[0].flux*b_flux[i]"
   ]
  },
  {
   "cell_type": "code",
   "execution_count": 72,
   "id": "7082ecb6",
   "metadata": {},
   "outputs": [],
   "source": [
    "# from moviepy.editor import VideoClip\n",
    "# from moviepy.video.io.bindings import mplfig_to_npimage\n",
    "    \n",
    "# # duration of the video\n",
    "# duration = 20\n",
    "\n",
    "# # matplot subplot\n",
    "# fig, ax = plt.subplots()\n",
    "\n",
    "# # method to get frames\n",
    "# def make_frame(t):\n",
    "\n",
    "#     # clear\n",
    "#     ax.clear()\n",
    "#     # plotting line\n",
    "#     x = int(t * 177)\n",
    "#     ax.imshow(oops.model.predict(params=oops.results[x]), origin='lower', vmin=0, vmax=50000)\n",
    "\n",
    "\n",
    "#     # returning numpy image\n",
    "#     return mplfig_to_npimage(fig)\n",
    "\n",
    "# # creating animation\n",
    "# animation = VideoClip(make_frame, duration = duration)\n",
    "# animation.ipython_display(fps=177)\n"
   ]
  },
  {
   "cell_type": "code",
   "execution_count": 98,
   "id": "f9d5d720",
   "metadata": {},
   "outputs": [],
   "source": [
    "factory = TargetPixelFileFactory(n_cadences=1, n_rows=len(tpf.flux[0]), n_cols=len(tpf.flux[0]))\n"
   ]
  },
  {
   "cell_type": "code",
   "execution_count": 99,
   "id": "7e34e2fc",
   "metadata": {},
   "outputs": [],
   "source": [
    "factory.add_cadence(\n",
    "                frameno=0,\n",
    "                raw_cnts=np.ones_like(tpf.flux[0]),\n",
    "                flux=tpf.flux[0],\n",
    "                flux_err=tpf.flux_err[0],\n",
    "                flux_bkg=tpf.flux_bkg[0],\n",
    "                flux_bkg_err=tpf.flux_bkg_err[0],\n",
    "            )"
   ]
  },
  {
   "cell_type": "code",
   "execution_count": 100,
   "id": "c06b01aa",
   "metadata": {},
   "outputs": [],
   "source": [
    "# hdu_idx = tpf.get_header()\n",
    "# factory.keywords = hdu_idx"
   ]
  },
  {
   "cell_type": "code",
   "execution_count": 101,
   "id": "e5b6e465",
   "metadata": {},
   "outputs": [],
   "source": [
    "tpfm = factory.get_tpf()"
   ]
  },
  {
   "cell_type": "code",
   "execution_count": 91,
   "id": "23d56c07",
   "metadata": {},
   "outputs": [],
   "source": [
    "tpfm.quality_mask = np.array(np.ones_like(tpf.flux)).astype('int')"
   ]
  },
  {
   "cell_type": "code",
   "execution_count": 102,
   "id": "f008c935",
   "metadata": {},
   "outputs": [
    {
     "ename": "AttributeError",
     "evalue": "'TargetPixelFile' object has no attribute 'quality_mask'",
     "output_type": "error",
     "traceback": [
      "\u001b[0;31m---------------------------------------------------------------------------\u001b[0m",
      "\u001b[0;31mAttributeError\u001b[0m                            Traceback (most recent call last)",
      "Cell \u001b[0;32mIn[102], line 1\u001b[0m\n\u001b[0;32m----> 1\u001b[0m \u001b[43mtpfm\u001b[49m\u001b[38;5;241;43m.\u001b[39;49m\u001b[43mflux\u001b[49m\n",
      "File \u001b[0;32m~/github/lightkurve/src/lightkurve/targetpixelfile.py:361\u001b[0m, in \u001b[0;36mTargetPixelFile.flux\u001b[0;34m(self)\u001b[0m\n\u001b[1;32m    359\u001b[0m \u001b[38;5;28;01mif\u001b[39;00m \u001b[38;5;28mself\u001b[39m\u001b[38;5;241m.\u001b[39mget_header(\u001b[38;5;241m1\u001b[39m)\u001b[38;5;241m.\u001b[39mget(\u001b[38;5;124m\"\u001b[39m\u001b[38;5;124mTUNIT5\u001b[39m\u001b[38;5;124m\"\u001b[39m) \u001b[38;5;241m==\u001b[39m \u001b[38;5;124m\"\u001b[39m\u001b[38;5;124me-/s\u001b[39m\u001b[38;5;124m\"\u001b[39m:\n\u001b[1;32m    360\u001b[0m     unit \u001b[38;5;241m=\u001b[39m \u001b[38;5;124m\"\u001b[39m\u001b[38;5;124melectron/s\u001b[39m\u001b[38;5;124m\"\u001b[39m\n\u001b[0;32m--> 361\u001b[0m \u001b[38;5;28;01mreturn\u001b[39;00m Quantity(\u001b[38;5;28mself\u001b[39m\u001b[38;5;241m.\u001b[39mhdu[\u001b[38;5;241m1\u001b[39m]\u001b[38;5;241m.\u001b[39mdata[\u001b[38;5;124m\"\u001b[39m\u001b[38;5;124mFLUX\u001b[39m\u001b[38;5;124m\"\u001b[39m][\u001b[38;5;28;43mself\u001b[39;49m\u001b[38;5;241;43m.\u001b[39;49m\u001b[43mquality_mask\u001b[49m], unit\u001b[38;5;241m=\u001b[39munit)\n",
      "\u001b[0;31mAttributeError\u001b[0m: 'TargetPixelFile' object has no attribute 'quality_mask'"
     ]
    }
   ],
   "source": [
    "tpfm.flux"
   ]
  },
  {
   "cell_type": "code",
   "execution_count": null,
   "id": "e4fe327f",
   "metadata": {},
   "outputs": [],
   "source": []
  }
 ],
 "metadata": {
  "kernelspec": {
   "display_name": "Python 3 (ipykernel)",
   "language": "python",
   "name": "python3"
  },
  "language_info": {
   "codemirror_mode": {
    "name": "ipython",
    "version": 3
   },
   "file_extension": ".py",
   "mimetype": "text/x-python",
   "name": "python",
   "nbconvert_exporter": "python",
   "pygments_lexer": "ipython3",
   "version": "3.9.13"
  }
 },
 "nbformat": 4,
 "nbformat_minor": 5
}
